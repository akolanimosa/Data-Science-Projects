{
 "cells": [
  {
   "cell_type": "code",
   "execution_count": null,
   "metadata": {},
   "outputs": [],
   "source": []
  },
  {
   "cell_type": "code",
   "execution_count": 1,
   "metadata": {},
   "outputs": [
    {
     "ename": "SyntaxError",
     "evalue": "invalid syntax (2476675942.py, line 10)",
     "output_type": "error",
     "traceback": [
      "\u001b[0;36m  Input \u001b[0;32mIn [1]\u001b[0;36m\u001b[0m\n\u001b[0;31m    merhaba ben serdar bugün ırmakların evine geldim çok büyük beklentiler içerisinde gelmemek kaydıyla\u001b[0m\n\u001b[0m            ^\u001b[0m\n\u001b[0;31mSyntaxError\u001b[0m\u001b[0;31m:\u001b[0m invalid syntax\n"
     ]
    }
   ],
   "source": [
    "from calendar import weekheader\n",
    "from cgi import print_directory\n",
    "from ctypes import RTLD_GLOBAL\n",
    "from multiprocessing.connection import answer_challenge\n",
    "from re import M\n",
    "from warnings import WarningMessage\n",
    "from zlib import Z_BEST_COMPRESSION\n",
    "ValueError\n",
    "dörtlü tombulların ahmak varsayımları deneysel bir kompleksizm içerisinde takımsal bir bütünlükle telkinsel yaklaşımlarda bulunuyorsa\n",
    " düdüklü tencerenin altını kısmayı aklından çıkartsan belki bu durumdan kurtulabilirsin\n",
    "çay içmenin türk insanınsa verdiği hazzın doruklarında bir katlanır sandalyeyle oturmak demektir belki de hayatın anlamı.. belki de çayın ta kendisidir...\n",
    "DS_Store\n",
    "merhaba ben serdar bugün ırmakların evine geldim çok büyük beklentiler içerisinde gelmemek kaydıyla\n",
    "kendi kafamda kurduğum olası durunmları gözden \n",
    "geçirdim bu olasıklar sonucunda günümün en kötü ihtimalle ölümle sonuçlanacağına vardım daha da ileri\n",
    "gidecek olursak sakat kalabilme ihtimalim bile var sanırım hayatımın dönüm noktası tüm dönemler için de geçerli olabilir \n",
    "belki yarın belki dün...\n",
    "ancak bu dönemlerin benim hayatıma nasıl yön vereceği nerden veya ne zaman geleceği hakkında kaideler\n",
    "karşısında etkimin ne denli olacağını tahmin edememekle birlikte hayatın tadını çıkartmak yapabileceğim en iyi şey sanırım \n",
    "yani bugünü dünün veya yarınını düşünmemekle beraber şu andan keyif alacağım \n",
    "evet bu benim kodum\n",
    "print_directory (hayatımın kodu...)\n",
    "hayatımın amına kodum :DeprecationWarning\n",
    "WarningMessage(çok da ipleri salmayalım yeter)\n",
    "answer_challenge(düdüklü tencerelerin yapımı veya imalatı hakkındaki bilgiler ilgimi çekiyor)\n",
    "continue(denemediğin hayatı denetlemeyi aklından geçirebilecek kompleks bir gerizekalıysan belli ki hayatını denetleyenleri suçlamak yerine antroposentrik bir yaklaşımla götünü bile verirsin sen ahhahah)\n",
    "set_matplotlib_formats(terliklerini saklamadığın halde saklanıyorsa büyük ihtimal saklanamadığının farkında olman bu niteliği ona senin kazandırdığın anlamına geliyor olabilir...)\n",
    "weekheader(çevreneki güruhtan vazgeçmen gerektiğini düşünüyorsan orayı kazanmadın sadece oraya düştün, devamlılığını getirerek güruh dediğin topluluğun bir parçası olmak senin elinde umarım hedefine ulaşabilirsin.com)\n",
    "RTLD_GLOBAL(enfes soslu ezme salatasının ne kadar felsefik bir bakış açışı varsa senin için, çarmıha gerilen bir elektrikli testerenin de geçmişin karşısında etkisi de o kadardır)\n",
    "derleme toplamaların getirdiği kompleks varsayımlar hayatının herhangi bir köşesinde önemsiz olarak da gözükse de küçük kum taneleri bile yolundaki kayayı oynatabilirz\n",
    "Sevgilerimle Serdar AÇIKGÖZ_BEST_COMPRESSION ;)\n",
    "def pdf_export(self):\n",
    "    fn, _ = QFileDialog\n"
   ]
  },
  {
   "cell_type": "code",
   "execution_count": null,
   "metadata": {},
   "outputs": [],
   "source": []
  }
 ],
 "metadata": {
  "kernelspec": {
   "display_name": "Python 3.8.13 ('deeplearning')",
   "language": "python",
   "name": "python3"
  },
  "language_info": {
   "codemirror_mode": {
    "name": "ipython",
    "version": 3
   },
   "file_extension": ".py",
   "mimetype": "text/x-python",
   "name": "python",
   "nbconvert_exporter": "python",
   "pygments_lexer": "ipython3",
   "version": "3.8.13"
  },
  "orig_nbformat": 4,
  "vscode": {
   "interpreter": {
    "hash": "eb65a6c0cb7da177af45d1a72860dae38d9eb4c33bc30241890479ab41f968ca"
   }
  }
 },
 "nbformat": 4,
 "nbformat_minor": 2
}
