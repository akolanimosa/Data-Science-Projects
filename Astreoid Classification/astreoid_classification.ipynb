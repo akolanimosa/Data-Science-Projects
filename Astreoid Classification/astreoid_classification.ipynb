{
 "cells": [
  {
   "cell_type": "markdown",
   "metadata": {},
   "source": [
    "# ***NASA - Nearest Earth Object Classification***\n",
    "### Code written by [__*Irmak Aslan*__](mailto:aslan.irmak@metu.edu.tr).\n",
    "### Data Source: [Kaggle](https://www.kaggle.com/code/alyssasoderlund/eda-and-model-building/data)\n",
    "\n",
    "### Dataset Description:\n",
    "This dataset contains information about asteroids orbiting earth. It is important to understand objects close to earth, as they can impact the earth in many ways and distrupt the earths natural phenomena. Information about the size, velocity, distance from earths orbit, and the magnitude of the luminosity of the asteroid can help experts identify whether an asteroid poses a threat or not. This project will analyze information about these asteroids, and attempt to create a model to predict whether or not an asteroid is potentially hazardous.\n",
    "\n",
    "The attributes of this dataset are:\n",
    "\n",
    "- id : identifier (the same object can have several rows in the dataset, as it has been observed multiple times)\n",
    "- name : name given by NASA (including the year the asteroid was discovered)\n",
    "- est_diameter_min : minimum estimated diameter in kilometers\n",
    "- est_diameter_max : maximum estimated diameter in kilometers\n",
    "- relative_velocity : velocity relative to earth\n",
    "- miss_distance : distance in kilometers it misses Earth\n",
    "- orbiting_body : planet that the asteroid orbits\n",
    "- sentry_object : whether it is included in sentry - an automated collision monitoring system\n",
    "- absolute_magnitude : intrinsic luminosity\n",
    "- hazardous : whether the asteriod is potentially harmful or not\n",
    "\n",
    "This dataset has 10 columns and 90,836 rows. It has no missing values.\n"
   ]
  },
  {
   "cell_type": "markdown",
   "metadata": {},
   "source": [
    "## 1- Data Understanding and Preperation\n",
    "\n",
    "In this section, we are going to import, and prepare our data.\n",
    "\n",
    "It is especially important to see that we can extract the year an astreoid is discovered by applying some functions to 'name' column. Even though we are able to collect most of the discovery years by only manipulating the strings, for some instances we have to use a control block to fix some unwanted values returned to us."
   ]
  },
  {
   "cell_type": "code",
   "execution_count": 3,
   "metadata": {},
   "outputs": [],
   "source": [
    "# Import required modules.\n",
    "import numpy as np\n",
    "import pandas as pd \n",
    "import seaborn as sns\n",
    "import matplotlib.pyplot as plt\n",
    "from sklearn.model_selection import GridSearchCV, train_test_split\n",
    "from sklearn.preprocessing import StandardScaler    \n",
    "from sklearn.metrics import ConfusionMatrixDisplay, precision_recall_fscore_support, classification_report, confusion_matrix\n",
    "from imblearn.over_sampling import SMOTE\n",
    "\n",
    "# Set theme for seaborn plots.\n",
    "sns.set_theme(style=\"whitegrid\")"
   ]
  },
  {
   "cell_type": "code",
   "execution_count": 4,
   "metadata": {},
   "outputs": [
    {
     "data": {
      "text/html": [
       "<div>\n",
       "<style scoped>\n",
       "    .dataframe tbody tr th:only-of-type {\n",
       "        vertical-align: middle;\n",
       "    }\n",
       "\n",
       "    .dataframe tbody tr th {\n",
       "        vertical-align: top;\n",
       "    }\n",
       "\n",
       "    .dataframe thead th {\n",
       "        text-align: right;\n",
       "    }\n",
       "</style>\n",
       "<table border=\"1\" class=\"dataframe\">\n",
       "  <thead>\n",
       "    <tr style=\"text-align: right;\">\n",
       "      <th></th>\n",
       "      <th>id</th>\n",
       "      <th>name</th>\n",
       "      <th>est_diameter_min</th>\n",
       "      <th>est_diameter_max</th>\n",
       "      <th>relative_velocity</th>\n",
       "      <th>miss_distance</th>\n",
       "      <th>orbiting_body</th>\n",
       "      <th>sentry_object</th>\n",
       "      <th>absolute_magnitude</th>\n",
       "      <th>hazardous</th>\n",
       "    </tr>\n",
       "  </thead>\n",
       "  <tbody>\n",
       "    <tr>\n",
       "      <th>0</th>\n",
       "      <td>2162635</td>\n",
       "      <td>162635 (2000 SS164)</td>\n",
       "      <td>1.198271</td>\n",
       "      <td>2.679415</td>\n",
       "      <td>13569.249224</td>\n",
       "      <td>5.483974e+07</td>\n",
       "      <td>Earth</td>\n",
       "      <td>False</td>\n",
       "      <td>16.73</td>\n",
       "      <td>False</td>\n",
       "    </tr>\n",
       "    <tr>\n",
       "      <th>1</th>\n",
       "      <td>2277475</td>\n",
       "      <td>277475 (2005 WK4)</td>\n",
       "      <td>0.265800</td>\n",
       "      <td>0.594347</td>\n",
       "      <td>73588.726663</td>\n",
       "      <td>6.143813e+07</td>\n",
       "      <td>Earth</td>\n",
       "      <td>False</td>\n",
       "      <td>20.00</td>\n",
       "      <td>True</td>\n",
       "    </tr>\n",
       "    <tr>\n",
       "      <th>2</th>\n",
       "      <td>2512244</td>\n",
       "      <td>512244 (2015 YE18)</td>\n",
       "      <td>0.722030</td>\n",
       "      <td>1.614507</td>\n",
       "      <td>114258.692129</td>\n",
       "      <td>4.979872e+07</td>\n",
       "      <td>Earth</td>\n",
       "      <td>False</td>\n",
       "      <td>17.83</td>\n",
       "      <td>False</td>\n",
       "    </tr>\n",
       "  </tbody>\n",
       "</table>\n",
       "</div>"
      ],
      "text/plain": [
       "        id                 name  est_diameter_min  est_diameter_max  \\\n",
       "0  2162635  162635 (2000 SS164)          1.198271          2.679415   \n",
       "1  2277475    277475 (2005 WK4)          0.265800          0.594347   \n",
       "2  2512244   512244 (2015 YE18)          0.722030          1.614507   \n",
       "\n",
       "   relative_velocity  miss_distance orbiting_body  sentry_object  \\\n",
       "0       13569.249224   5.483974e+07         Earth          False   \n",
       "1       73588.726663   6.143813e+07         Earth          False   \n",
       "2      114258.692129   4.979872e+07         Earth          False   \n",
       "\n",
       "   absolute_magnitude  hazardous  \n",
       "0               16.73      False  \n",
       "1               20.00       True  \n",
       "2               17.83      False  "
      ]
     },
     "execution_count": 4,
     "metadata": {},
     "output_type": "execute_result"
    }
   ],
   "source": [
    "# Import and prepare dataset.\n",
    "path = \"/Users/irmakaslan/Documents/Personal-Code-Files/data/neo_v2.csv\"\n",
    "df = pd.read_csv(path)\n",
    "\n",
    "# Taking a look at what out data looks like.\n",
    "df.head(3)"
   ]
  },
  {
   "cell_type": "code",
   "execution_count": 5,
   "metadata": {},
   "outputs": [
    {
     "data": {
      "text/html": [
       "<div>\n",
       "<style scoped>\n",
       "    .dataframe tbody tr th:only-of-type {\n",
       "        vertical-align: middle;\n",
       "    }\n",
       "\n",
       "    .dataframe tbody tr th {\n",
       "        vertical-align: top;\n",
       "    }\n",
       "\n",
       "    .dataframe thead th {\n",
       "        text-align: right;\n",
       "    }\n",
       "</style>\n",
       "<table border=\"1\" class=\"dataframe\">\n",
       "  <thead>\n",
       "    <tr style=\"text-align: right;\">\n",
       "      <th></th>\n",
       "      <th>id</th>\n",
       "      <th>year</th>\n",
       "      <th>est_diameter_min</th>\n",
       "      <th>est_diameter_max</th>\n",
       "      <th>relative_velocity</th>\n",
       "      <th>miss_distance</th>\n",
       "      <th>orbiting_body</th>\n",
       "      <th>sentry_object</th>\n",
       "      <th>absolute_magnitude</th>\n",
       "      <th>hazardous</th>\n",
       "    </tr>\n",
       "  </thead>\n",
       "  <tbody>\n",
       "    <tr>\n",
       "      <th>0</th>\n",
       "      <td>2162635</td>\n",
       "      <td>2000</td>\n",
       "      <td>1.198271</td>\n",
       "      <td>2.679415</td>\n",
       "      <td>13569.249224</td>\n",
       "      <td>5.483974e+07</td>\n",
       "      <td>Earth</td>\n",
       "      <td>False</td>\n",
       "      <td>16.73</td>\n",
       "      <td>False</td>\n",
       "    </tr>\n",
       "    <tr>\n",
       "      <th>1</th>\n",
       "      <td>2277475</td>\n",
       "      <td>2005</td>\n",
       "      <td>0.265800</td>\n",
       "      <td>0.594347</td>\n",
       "      <td>73588.726663</td>\n",
       "      <td>6.143813e+07</td>\n",
       "      <td>Earth</td>\n",
       "      <td>False</td>\n",
       "      <td>20.00</td>\n",
       "      <td>True</td>\n",
       "    </tr>\n",
       "    <tr>\n",
       "      <th>2</th>\n",
       "      <td>2512244</td>\n",
       "      <td>2015</td>\n",
       "      <td>0.722030</td>\n",
       "      <td>1.614507</td>\n",
       "      <td>114258.692129</td>\n",
       "      <td>4.979872e+07</td>\n",
       "      <td>Earth</td>\n",
       "      <td>False</td>\n",
       "      <td>17.83</td>\n",
       "      <td>False</td>\n",
       "    </tr>\n",
       "  </tbody>\n",
       "</table>\n",
       "</div>"
      ],
      "text/plain": [
       "        id  year  est_diameter_min  est_diameter_max  relative_velocity  \\\n",
       "0  2162635  2000          1.198271          2.679415       13569.249224   \n",
       "1  2277475  2005          0.265800          0.594347       73588.726663   \n",
       "2  2512244  2015          0.722030          1.614507      114258.692129   \n",
       "\n",
       "   miss_distance orbiting_body  sentry_object  absolute_magnitude  hazardous  \n",
       "0   5.483974e+07         Earth          False               16.73      False  \n",
       "1   6.143813e+07         Earth          False               20.00       True  \n",
       "2   4.979872e+07         Earth          False               17.83      False  "
      ]
     },
     "execution_count": 5,
     "metadata": {},
     "output_type": "execute_result"
    }
   ],
   "source": [
    "# Get detected years of astreoids from names of the astreoids.\n",
    "def get_year(name):\n",
    "    # Years are usually in parantheses, but for some specific values, we need a control block.\n",
    "    year = name[name.index(\"(\") + 1: name.index(\")\")][0:4]\n",
    "    if year == \"A/20\":\n",
    "        year = 2019\n",
    "    elif year == \"A924\":\n",
    "        year = 1924\n",
    "    elif year == \"A911\":\n",
    "        year = 1911\n",
    "    elif year == \"A898\":\n",
    "        year = 1898\n",
    "    elif year == \"4788\":\n",
    "        year = 1998\n",
    "    elif year == \"6344\":\n",
    "        year = 1960\n",
    "    elif year == \"6743\":\n",
    "        year = 1960\n",
    "\n",
    "    return year\n",
    "    \n",
    "years = df.name.apply(get_year).astype(int)\n",
    "\n",
    "# Change name column to year column.\n",
    "df[\"name\"] = years\n",
    "df.rename(columns={\"name\": \"year\"}, inplace=True)\n",
    "df.head(3)"
   ]
  },
  {
   "cell_type": "markdown",
   "metadata": {},
   "source": [
    "## 2- Data Exploration by Visualization\n",
    "Now, Our data is ready to be explored. We will try to detect relationships between features and target variable hazardous.\n",
    "\n",
    "We need to detect overlappings and discreteneses to understand if the feature is linked to target variable somehow. Kernel Density Estimate(KDE) Plots and Boxplots are suited for this purpose."
   ]
  },
  {
   "cell_type": "code",
   "execution_count": 6,
   "metadata": {},
   "outputs": [
    {
     "data": {
      "text/plain": [
       "<AxesSubplot:xlabel='year', ylabel='hazardous'>"
      ]
     },
     "execution_count": 6,
     "metadata": {},
     "output_type": "execute_result"
    },
    {
     "data": {
      "image/png": "[encoded data removed]",
      "text/plain": [
       "<Figure size 1728x576 with 12 Axes>"
      ]
     },
     "metadata": {
      "needs_background": "light"
     },
     "output_type": "display_data"
    }
   ],
   "source": [
    "# Plot figures to detect relationships between features and target variable 'hazardous'.\n",
    "fig, axs = plt.subplots(ncols=6, nrows=2)\n",
    "fig.set_size_inches((24, 8))\n",
    "\n",
    "sns.kdeplot(x=\"est_diameter_min\", hue=\"hazardous\", data=df, multiple=\"fill\", ax=axs[0][0])\n",
    "sns.kdeplot(x=\"est_diameter_max\", hue=\"hazardous\", data=df, multiple=\"fill\", ax=axs[0][1])\n",
    "sns.kdeplot(x=\"relative_velocity\", hue=\"hazardous\", data=df, multiple=\"fill\", ax=axs[0][2])\n",
    "sns.kdeplot(x=\"absolute_magnitude\", hue=\"hazardous\", data=df, multiple=\"fill\", ax=axs[0][3])\n",
    "sns.kdeplot(x=\"miss_distance\", hue=\"hazardous\", data=df, multiple=\"fill\", ax=axs[0][4])\n",
    "sns.kdeplot(x=\"year\", hue=\"hazardous\", data=df, multiple=\"fill\", ax=axs[0][5])\n",
    "\n",
    "sns.boxplot(x=\"est_diameter_min\", y=\"hazardous\", data=df, orient=\"h\", ax=axs[1][0])\n",
    "sns.boxplot(x=\"est_diameter_max\", y=\"hazardous\", data=df, orient=\"h\", ax=axs[1][1])\n",
    "sns.boxplot(x=\"relative_velocity\", y=\"hazardous\", data=df, orient=\"h\", ax=axs[1][2])\n",
    "sns.boxplot(x=\"absolute_magnitude\", y=\"hazardous\", data=df, orient=\"h\", ax=axs[1][3])\n",
    "sns.boxplot(x=\"miss_distance\", y=\"hazardous\", data=df, orient=\"h\", ax=axs[1][4])\n",
    "sns.boxplot(x=\"year\", y=\"hazardous\", data=df, orient=\"h\", ax=axs[1][5])"
   ]
  },
  {
   "cell_type": "markdown",
   "metadata": {},
   "source": [
    "## 3- Feature Selection and more Data Preperation\n",
    "\n",
    "It can be seen from the graphs that 5 out of 5 features are related to our target variable. So, we will build our models using this 5 features.\n",
    "\n",
    "#### There are 3 steps taken in this section:\n",
    "- Split data into train and test samples. &harr; Model must not be trained according to the test data.\n",
    "- Normalize x-train and x-test sets. &harr; Some models like KNN(using distance for classification) needs normalized data to uniformly process features.\n",
    "- Oversample training set using SMOTE. &harr; Our data is imbalanced, oversampling will solve this problem.\n",
    "\n",
    "#### Notes:\n",
    "- Even though oversampling can decrease accuracy of the models we build, it will decrease false-negatives and at the same time. Considering the very high cost of false-negatives, we will use oversampling.\n",
    "- Our model will be trained with 80% of the dataset. Other 20% will be used for testing."
   ]
  },
  {
   "cell_type": "code",
   "execution_count": 7,
   "metadata": {},
   "outputs": [],
   "source": [
    "# Chose features depending on graphs and define target array.\n",
    "features = df.iloc[:, 1:-1].drop(columns=[\"orbiting_body\", \"sentry_object\"]).values\n",
    "target = df.hazardous.values\n",
    "\n",
    "# Split and normalize data.\n",
    "x_train, x_test, y_train, y_test = train_test_split(features, target, train_size=0.8, random_state=42)\n",
    "scaler = StandardScaler().fit(x_train)\n",
    "x_train, x_test = scaler.transform(x_train), scaler.transform(x_test)\n",
    "\n",
    "# Overs-sample the data using SMOTE.\n",
    "sampler = SMOTE(sampling_strategy=\"minority\", random_state=42)\n",
    "x_train_rs, y_train_rs = sampler.fit_resample(x_train, y_train)"
   ]
  },
  {
   "cell_type": "markdown",
   "metadata": {},
   "source": [
    "### 4- Model Building and Evaluation\n",
    "In this section, we will build and test our models. Because detection of hazardous astroids is the priority of this project; F-1, recall scores and confusion matrices will be used for evaluation.\n",
    "#### 4 Models will be tested:\n",
    "1. Linear Support Vector Machine\n",
    "2. K-Nearest Neighbour Classification\n",
    "3. Stochastic Gradient Descent\n",
    "4. Random Forest Classification"
   ]
  },
  {
   "cell_type": "code",
   "execution_count": 8,
   "metadata": {},
   "outputs": [
    {
     "data": {
      "text/html": [
       "<div>\n",
       "<style scoped>\n",
       "    .dataframe tbody tr th:only-of-type {\n",
       "        vertical-align: middle;\n",
       "    }\n",
       "\n",
       "    .dataframe tbody tr th {\n",
       "        vertical-align: top;\n",
       "    }\n",
       "\n",
       "    .dataframe thead th {\n",
       "        text-align: right;\n",
       "    }\n",
       "</style>\n",
       "<table border=\"1\" class=\"dataframe\">\n",
       "  <thead>\n",
       "    <tr style=\"text-align: right;\">\n",
       "      <th></th>\n",
       "      <th>False</th>\n",
       "      <th>True</th>\n",
       "      <th>accuracy</th>\n",
       "      <th>macro avg</th>\n",
       "      <th>weighted avg</th>\n",
       "    </tr>\n",
       "  </thead>\n",
       "  <tbody>\n",
       "    <tr>\n",
       "      <th>precision</th>\n",
       "      <td>0.992127</td>\n",
       "      <td>0.291436</td>\n",
       "      <td>0.77642</td>\n",
       "      <td>0.641781</td>\n",
       "      <td>0.925444</td>\n",
       "    </tr>\n",
       "    <tr>\n",
       "      <th>recall</th>\n",
       "      <td>0.758927</td>\n",
       "      <td>0.942741</td>\n",
       "      <td>0.77642</td>\n",
       "      <td>0.850834</td>\n",
       "      <td>0.776420</td>\n",
       "    </tr>\n",
       "    <tr>\n",
       "      <th>f1-score</th>\n",
       "      <td>0.859999</td>\n",
       "      <td>0.445234</td>\n",
       "      <td>0.77642</td>\n",
       "      <td>0.652616</td>\n",
       "      <td>0.820527</td>\n",
       "    </tr>\n",
       "    <tr>\n",
       "      <th>support</th>\n",
       "      <td>16439.000000</td>\n",
       "      <td>1729.000000</td>\n",
       "      <td>0.77642</td>\n",
       "      <td>18168.000000</td>\n",
       "      <td>18168.000000</td>\n",
       "    </tr>\n",
       "  </tbody>\n",
       "</table>\n",
       "</div>"
      ],
      "text/plain": [
       "                  False         True  accuracy     macro avg  weighted avg\n",
       "precision      0.992127     0.291436   0.77642      0.641781      0.925444\n",
       "recall         0.758927     0.942741   0.77642      0.850834      0.776420\n",
       "f1-score       0.859999     0.445234   0.77642      0.652616      0.820527\n",
       "support    16439.000000  1729.000000   0.77642  18168.000000  18168.000000"
      ]
     },
     "execution_count": 8,
     "metadata": {},
     "output_type": "execute_result"
    }
   ],
   "source": [
    "# Test Linear Support Vector Machine classifier.\n",
    "from sklearn.svm import LinearSVC\n",
    "\n",
    "parameters = {\n",
    "\"loss\": [\"hinge\", \"squared_hinge\"],\n",
    "}\n",
    "\n",
    "model_svml = GridSearchCV(LinearSVC(C=0.001), parameters, n_jobs=-1).fit(x_train_rs, y_train_rs)\n",
    "y_pred_svml = model_svml.predict(x_test)\n",
    "\n",
    "pd.DataFrame(classification_report(y_test, y_pred_svml, output_dict=True))"
   ]
  },
  {
   "cell_type": "code",
   "execution_count": 9,
   "metadata": {},
   "outputs": [
    {
     "data": {
      "text/plain": [
       "<sklearn.metrics._plot.confusion_matrix.ConfusionMatrixDisplay at 0x16a36c760>"
      ]
     },
     "execution_count": 9,
     "metadata": {},
     "output_type": "execute_result"
    },
    {
     "data": {
      "image/png": "[encoded data removed]",
      "text/plain": [
       "<Figure size 432x288 with 2 Axes>"
      ]
     },
     "metadata": {
      "needs_background": "light"
     },
     "output_type": "display_data"
    }
   ],
   "source": [
    "# Plot confusion matrix.\n",
    "cmd = ConfusionMatrixDisplay(confusion_matrix(y_test, y_pred_svml), display_labels=[\"Non-Hazardous\", \"Hazardous\"])\n",
    "cmd.plot()"
   ]
  },
  {
   "cell_type": "markdown",
   "metadata": {},
   "source": [
    "- Even though the scores are not very high, SVM looks beneficial mainly because it yields very low false-negative rates.\n",
    "- The cost is high false-positives."
   ]
  },
  {
   "cell_type": "code",
   "execution_count": 10,
   "metadata": {},
   "outputs": [
    {
     "data": {
      "text/html": [
       "<div>\n",
       "<style scoped>\n",
       "    .dataframe tbody tr th:only-of-type {\n",
       "        vertical-align: middle;\n",
       "    }\n",
       "\n",
       "    .dataframe tbody tr th {\n",
       "        vertical-align: top;\n",
       "    }\n",
       "\n",
       "    .dataframe thead th {\n",
       "        text-align: right;\n",
       "    }\n",
       "</style>\n",
       "<table border=\"1\" class=\"dataframe\">\n",
       "  <thead>\n",
       "    <tr style=\"text-align: right;\">\n",
       "      <th></th>\n",
       "      <th>False</th>\n",
       "      <th>True</th>\n",
       "      <th>accuracy</th>\n",
       "      <th>macro avg</th>\n",
       "      <th>weighted avg</th>\n",
       "    </tr>\n",
       "  </thead>\n",
       "  <tbody>\n",
       "    <tr>\n",
       "      <th>precision</th>\n",
       "      <td>0.957762</td>\n",
       "      <td>0.455131</td>\n",
       "      <td>0.893329</td>\n",
       "      <td>0.706447</td>\n",
       "      <td>0.909928</td>\n",
       "    </tr>\n",
       "    <tr>\n",
       "      <th>recall</th>\n",
       "      <td>0.922806</td>\n",
       "      <td>0.613071</td>\n",
       "      <td>0.893329</td>\n",
       "      <td>0.767938</td>\n",
       "      <td>0.893329</td>\n",
       "    </tr>\n",
       "    <tr>\n",
       "      <th>f1-score</th>\n",
       "      <td>0.939959</td>\n",
       "      <td>0.522425</td>\n",
       "      <td>0.893329</td>\n",
       "      <td>0.731192</td>\n",
       "      <td>0.900223</td>\n",
       "    </tr>\n",
       "    <tr>\n",
       "      <th>support</th>\n",
       "      <td>16439.000000</td>\n",
       "      <td>1729.000000</td>\n",
       "      <td>0.893329</td>\n",
       "      <td>18168.000000</td>\n",
       "      <td>18168.000000</td>\n",
       "    </tr>\n",
       "  </tbody>\n",
       "</table>\n",
       "</div>"
      ],
      "text/plain": [
       "                  False         True  accuracy     macro avg  weighted avg\n",
       "precision      0.957762     0.455131  0.893329      0.706447      0.909928\n",
       "recall         0.922806     0.613071  0.893329      0.767938      0.893329\n",
       "f1-score       0.939959     0.522425  0.893329      0.731192      0.900223\n",
       "support    16439.000000  1729.000000  0.893329  18168.000000  18168.000000"
      ]
     },
     "execution_count": 10,
     "metadata": {},
     "output_type": "execute_result"
    }
   ],
   "source": [
    "# Test K-Nearest Neighbors classifier.\n",
    "from sklearn.neighbors import KNeighborsClassifier\n",
    "\n",
    "parameters = {\"n_neighbors\": list(range(1, 20))}\n",
    "\n",
    "model_knn = GridSearchCV(KNeighborsClassifier(), parameters, n_jobs=-1).fit(x_train_rs, y_train_rs)\n",
    "\n",
    "y_pred_knn = model_knn.predict(x_test)\n",
    "\n",
    "pd.DataFrame(classification_report(y_test, y_pred_knn, output_dict=True))"
   ]
  },
  {
   "cell_type": "code",
   "execution_count": 11,
   "metadata": {},
   "outputs": [
    {
     "data": {
      "text/plain": [
       "<sklearn.metrics._plot.confusion_matrix.ConfusionMatrixDisplay at 0x16b411f10>"
      ]
     },
     "execution_count": 11,
     "metadata": {},
     "output_type": "execute_result"
    },
    {
     "data": {
      "image/png": "[encoded data removed]",
      "text/plain": [
       "<Figure size 432x288 with 2 Axes>"
      ]
     },
     "metadata": {
      "needs_background": "light"
     },
     "output_type": "display_data"
    }
   ],
   "source": [
    "# Plot confusion matrix.\n",
    "cmd = ConfusionMatrixDisplay(confusion_matrix(y_test, y_pred_knn), display_labels=[\"Non-Hazardous\", \"Hazardous\"])\n",
    "cmd.plot()"
   ]
  },
  {
   "cell_type": "markdown",
   "metadata": {},
   "source": [
    "- Very high rates of false-negatives makes KNN algorithm ineffective."
   ]
  },
  {
   "cell_type": "code",
   "execution_count": 12,
   "metadata": {},
   "outputs": [
    {
     "data": {
      "text/html": [
       "<div>\n",
       "<style scoped>\n",
       "    .dataframe tbody tr th:only-of-type {\n",
       "        vertical-align: middle;\n",
       "    }\n",
       "\n",
       "    .dataframe tbody tr th {\n",
       "        vertical-align: top;\n",
       "    }\n",
       "\n",
       "    .dataframe thead th {\n",
       "        text-align: right;\n",
       "    }\n",
       "</style>\n",
       "<table border=\"1\" class=\"dataframe\">\n",
       "  <thead>\n",
       "    <tr style=\"text-align: right;\">\n",
       "      <th></th>\n",
       "      <th>False</th>\n",
       "      <th>True</th>\n",
       "      <th>accuracy</th>\n",
       "      <th>macro avg</th>\n",
       "      <th>weighted avg</th>\n",
       "    </tr>\n",
       "  </thead>\n",
       "  <tbody>\n",
       "    <tr>\n",
       "      <th>precision</th>\n",
       "      <td>0.998338</td>\n",
       "      <td>0.278520</td>\n",
       "      <td>0.755229</td>\n",
       "      <td>0.638429</td>\n",
       "      <td>0.929835</td>\n",
       "    </tr>\n",
       "    <tr>\n",
       "      <th>recall</th>\n",
       "      <td>0.730701</td>\n",
       "      <td>0.988433</td>\n",
       "      <td>0.755229</td>\n",
       "      <td>0.859567</td>\n",
       "      <td>0.755229</td>\n",
       "    </tr>\n",
       "    <tr>\n",
       "      <th>f1-score</th>\n",
       "      <td>0.843806</td>\n",
       "      <td>0.434584</td>\n",
       "      <td>0.755229</td>\n",
       "      <td>0.639195</td>\n",
       "      <td>0.804861</td>\n",
       "    </tr>\n",
       "    <tr>\n",
       "      <th>support</th>\n",
       "      <td>16439.000000</td>\n",
       "      <td>1729.000000</td>\n",
       "      <td>0.755229</td>\n",
       "      <td>18168.000000</td>\n",
       "      <td>18168.000000</td>\n",
       "    </tr>\n",
       "  </tbody>\n",
       "</table>\n",
       "</div>"
      ],
      "text/plain": [
       "                  False         True  accuracy     macro avg  weighted avg\n",
       "precision      0.998338     0.278520  0.755229      0.638429      0.929835\n",
       "recall         0.730701     0.988433  0.755229      0.859567      0.755229\n",
       "f1-score       0.843806     0.434584  0.755229      0.639195      0.804861\n",
       "support    16439.000000  1729.000000  0.755229  18168.000000  18168.000000"
      ]
     },
     "execution_count": 12,
     "metadata": {},
     "output_type": "execute_result"
    }
   ],
   "source": [
    "# Test Scholastic Gradient Descent classifier.\n",
    "from sklearn.linear_model import SGDClassifier\n",
    "\n",
    "parameters = {\n",
    "    \"alpha\": [0.0001]\n",
    "}\n",
    "\n",
    "model_sgd = GridSearchCV(SGDClassifier(), parameters, n_jobs=-1).fit(x_train_rs, y_train_rs)\n",
    "\n",
    "y_pred_sgd = model_sgd.predict(x_test)\n",
    "\n",
    "pd.DataFrame(classification_report(y_test, y_pred_sgd, output_dict=True))"
   ]
  },
  {
   "cell_type": "code",
   "execution_count": 13,
   "metadata": {},
   "outputs": [
    {
     "data": {
      "text/plain": [
       "<sklearn.metrics._plot.confusion_matrix.ConfusionMatrixDisplay at 0x16a3f4a60>"
      ]
     },
     "execution_count": 13,
     "metadata": {},
     "output_type": "execute_result"
    },
    {
     "data": {
      "image/png": "[encoded data removed]",
      "text/plain": [
       "<Figure size 432x288 with 2 Axes>"
      ]
     },
     "metadata": {
      "needs_background": "light"
     },
     "output_type": "display_data"
    }
   ],
   "source": [
    "# Plot confusion matrix.\n",
    "cmd = ConfusionMatrixDisplay(confusion_matrix(y_test, y_pred_sgd), display_labels=[\"Non-Hazardous\", \"Hazardous\"])\n",
    "cmd.plot()"
   ]
  },
  {
   "cell_type": "markdown",
   "metadata": {},
   "source": [
    "- Even lower false-negatives than Linear Support Vector machine.\n",
    "- False positives increases too. "
   ]
  },
  {
   "cell_type": "code",
   "execution_count": 14,
   "metadata": {},
   "outputs": [
    {
     "data": {
      "text/html": [
       "<div>\n",
       "<style scoped>\n",
       "    .dataframe tbody tr th:only-of-type {\n",
       "        vertical-align: middle;\n",
       "    }\n",
       "\n",
       "    .dataframe tbody tr th {\n",
       "        vertical-align: top;\n",
       "    }\n",
       "\n",
       "    .dataframe thead th {\n",
       "        text-align: right;\n",
       "    }\n",
       "</style>\n",
       "<table border=\"1\" class=\"dataframe\">\n",
       "  <thead>\n",
       "    <tr style=\"text-align: right;\">\n",
       "      <th></th>\n",
       "      <th>False</th>\n",
       "      <th>True</th>\n",
       "      <th>accuracy</th>\n",
       "      <th>macro avg</th>\n",
       "      <th>weighted avg</th>\n",
       "    </tr>\n",
       "  </thead>\n",
       "  <tbody>\n",
       "    <tr>\n",
       "      <th>precision</th>\n",
       "      <td>0.972604</td>\n",
       "      <td>0.643644</td>\n",
       "      <td>0.936427</td>\n",
       "      <td>0.808124</td>\n",
       "      <td>0.941297</td>\n",
       "    </tr>\n",
       "    <tr>\n",
       "      <th>recall</th>\n",
       "      <td>0.956688</td>\n",
       "      <td>0.743783</td>\n",
       "      <td>0.936427</td>\n",
       "      <td>0.850235</td>\n",
       "      <td>0.936427</td>\n",
       "    </tr>\n",
       "    <tr>\n",
       "      <th>f1-score</th>\n",
       "      <td>0.964580</td>\n",
       "      <td>0.690099</td>\n",
       "      <td>0.936427</td>\n",
       "      <td>0.827340</td>\n",
       "      <td>0.938459</td>\n",
       "    </tr>\n",
       "    <tr>\n",
       "      <th>support</th>\n",
       "      <td>16439.000000</td>\n",
       "      <td>1729.000000</td>\n",
       "      <td>0.936427</td>\n",
       "      <td>18168.000000</td>\n",
       "      <td>18168.000000</td>\n",
       "    </tr>\n",
       "  </tbody>\n",
       "</table>\n",
       "</div>"
      ],
      "text/plain": [
       "                  False         True  accuracy     macro avg  weighted avg\n",
       "precision      0.972604     0.643644  0.936427      0.808124      0.941297\n",
       "recall         0.956688     0.743783  0.936427      0.850235      0.936427\n",
       "f1-score       0.964580     0.690099  0.936427      0.827340      0.938459\n",
       "support    16439.000000  1729.000000  0.936427  18168.000000  18168.000000"
      ]
     },
     "execution_count": 14,
     "metadata": {},
     "output_type": "execute_result"
    }
   ],
   "source": [
    "# Test Random Forest Classifier.\n",
    "from sklearn.ensemble import RandomForestClassifier\n",
    "\n",
    "parameters = {\n",
    "    \"max_features\": [\"sqrt\", \"log2\"]\n",
    "}\n",
    "\n",
    "model_rfc = GridSearchCV(RandomForestClassifier(n_estimators=200, n_jobs=-1), parameters, n_jobs=-1).fit(x_train_rs, y_train_rs)\n",
    "\n",
    "y_pred_rfc = model_rfc.predict(x_test)\n",
    "\n",
    "pd.DataFrame(classification_report(y_test, y_pred_rfc, output_dict=True))"
   ]
  },
  {
   "cell_type": "code",
   "execution_count": 15,
   "metadata": {},
   "outputs": [
    {
     "data": {
      "text/plain": [
       "<sklearn.metrics._plot.confusion_matrix.ConfusionMatrixDisplay at 0x16b4188e0>"
      ]
     },
     "execution_count": 15,
     "metadata": {},
     "output_type": "execute_result"
    },
    {
     "data": {
      "image/png": "[encoded data removed]",
      "text/plain": [
       "<Figure size 432x288 with 2 Axes>"
      ]
     },
     "metadata": {
      "needs_background": "light"
     },
     "output_type": "display_data"
    }
   ],
   "source": [
    "# Plot confusion matrix.\n",
    "cmd = ConfusionMatrixDisplay(confusion_matrix(y_test, y_pred_rfc), display_labels=[\"Non-Hazardous\", \"Hazardous\"])\n",
    "cmd.plot()"
   ]
  },
  {
   "cell_type": "markdown",
   "metadata": {},
   "source": [
    "- Verry accurate model.\n",
    "- False negatives are highed than KDD and SVM."
   ]
  },
  {
   "cell_type": "markdown",
   "metadata": {},
   "source": [
    "## 5- Comparison\n",
    "We will compare our models in this section. Scores, confusion matrices and AUC-ROC curves will be used."
   ]
  },
  {
   "cell_type": "code",
   "execution_count": 46,
   "metadata": {},
   "outputs": [],
   "source": [
    "# Get scores for each model.\n",
    "linsvc_score = precision_recall_fscore_support(y_test, y_pred_svml)\n",
    "knn_score = precision_recall_fscore_support(y_test, y_pred_knn)\n",
    "sgd_score = precision_recall_fscore_support(y_test, y_pred_sgd)\n",
    "rfc_score = precision_recall_fscore_support(y_test, y_pred_rfc)"
   ]
  },
  {
   "cell_type": "code",
   "execution_count": 45,
   "metadata": {},
   "outputs": [
    {
     "data": {
      "text/html": [
       "<style type=\"text/css\">\n",
       "</style>\n",
       "<table id=\"T_ecc8a\">\n",
       "  <caption>Scores for Non-Hazardous Predictions</caption>\n",
       "  <thead>\n",
       "    <tr>\n",
       "      <th class=\"blank level0\" >&nbsp;</th>\n",
       "      <th id=\"T_ecc8a_level0_col0\" class=\"col_heading level0 col0\" >Scholastic Gradient Descent</th>\n",
       "      <th id=\"T_ecc8a_level0_col1\" class=\"col_heading level0 col1\" >Linear-SVM</th>\n",
       "      <th id=\"T_ecc8a_level0_col2\" class=\"col_heading level0 col2\" >K-Nearest Neighbour</th>\n",
       "      <th id=\"T_ecc8a_level0_col3\" class=\"col_heading level0 col3\" >Random Forest</th>\n",
       "    </tr>\n",
       "  </thead>\n",
       "  <tbody>\n",
       "    <tr>\n",
       "      <th id=\"T_ecc8a_level0_row0\" class=\"row_heading level0 row0\" >Precision</th>\n",
       "      <td id=\"T_ecc8a_row0_col0\" class=\"data row0 col0\" >0.998338</td>\n",
       "      <td id=\"T_ecc8a_row0_col1\" class=\"data row0 col1\" >0.992127</td>\n",
       "      <td id=\"T_ecc8a_row0_col2\" class=\"data row0 col2\" >0.957762</td>\n",
       "      <td id=\"T_ecc8a_row0_col3\" class=\"data row0 col3\" >0.972604</td>\n",
       "    </tr>\n",
       "    <tr>\n",
       "      <th id=\"T_ecc8a_level0_row1\" class=\"row_heading level0 row1\" >Recall</th>\n",
       "      <td id=\"T_ecc8a_row1_col0\" class=\"data row1 col0\" >0.730701</td>\n",
       "      <td id=\"T_ecc8a_row1_col1\" class=\"data row1 col1\" >0.758927</td>\n",
       "      <td id=\"T_ecc8a_row1_col2\" class=\"data row1 col2\" >0.922806</td>\n",
       "      <td id=\"T_ecc8a_row1_col3\" class=\"data row1 col3\" >0.956688</td>\n",
       "    </tr>\n",
       "    <tr>\n",
       "      <th id=\"T_ecc8a_level0_row2\" class=\"row_heading level0 row2\" >F-Score</th>\n",
       "      <td id=\"T_ecc8a_row2_col0\" class=\"data row2 col0\" >0.843806</td>\n",
       "      <td id=\"T_ecc8a_row2_col1\" class=\"data row2 col1\" >0.859999</td>\n",
       "      <td id=\"T_ecc8a_row2_col2\" class=\"data row2 col2\" >0.939959</td>\n",
       "      <td id=\"T_ecc8a_row2_col3\" class=\"data row2 col3\" >0.964580</td>\n",
       "    </tr>\n",
       "    <tr>\n",
       "      <th id=\"T_ecc8a_level0_row3\" class=\"row_heading level0 row3\" >Support</th>\n",
       "      <td id=\"T_ecc8a_row3_col0\" class=\"data row3 col0\" >16439.000000</td>\n",
       "      <td id=\"T_ecc8a_row3_col1\" class=\"data row3 col1\" >16439.000000</td>\n",
       "      <td id=\"T_ecc8a_row3_col2\" class=\"data row3 col2\" >16439.000000</td>\n",
       "      <td id=\"T_ecc8a_row3_col3\" class=\"data row3 col3\" >16439.000000</td>\n",
       "    </tr>\n",
       "  </tbody>\n",
       "</table>\n"
      ],
      "text/plain": [
       "<pandas.io.formats.style.Styler at 0x16b97e8b0>"
      ]
     },
     "execution_count": 45,
     "metadata": {},
     "output_type": "execute_result"
    }
   ],
   "source": [
    "# Print scores for Non-Hazardous predictions in tabular form.\n",
    "score_data = pd.DataFrame({\n",
    "    \"Scholastic Gradient Descent\": [sgd_score[0][0], sgd_score[1][0], sgd_score[2][0], sgd_score[3][0]],\n",
    "    \"Linear-SVM\": [linsvc_score[0][0], linsvc_score[1][0], linsvc_score[2][0], linsvc_score[3][0]],\n",
    "    \"K-Nearest Neighbour\": [knn_score[0][0], knn_score[1][0], knn_score[2][0], knn_score[3][0]],\n",
    "    \"Random Forest\": [rfc_score[0][0], rfc_score[1][0], rfc_score[2][0], rfc_score[3][0]]\n",
    "}, index=[\"Precision\", \"Recall\", \"F-Score\", \"Support\"]).style.set_caption(\"Scores for Non-Hazardous Predictions\")\n",
    "score_data"
   ]
  },
  {
   "cell_type": "code",
   "execution_count": 44,
   "metadata": {},
   "outputs": [
    {
     "data": {
      "text/html": [
       "<style type=\"text/css\">\n",
       "</style>\n",
       "<table id=\"T_fd94f\">\n",
       "  <caption>Scores for Hazardous Predictions</caption>\n",
       "  <thead>\n",
       "    <tr>\n",
       "      <th class=\"blank level0\" >&nbsp;</th>\n",
       "      <th id=\"T_fd94f_level0_col0\" class=\"col_heading level0 col0\" >Scholastic Gradient Descent</th>\n",
       "      <th id=\"T_fd94f_level0_col1\" class=\"col_heading level0 col1\" >Linear-SVM</th>\n",
       "      <th id=\"T_fd94f_level0_col2\" class=\"col_heading level0 col2\" >K-Nearest Neighbour</th>\n",
       "      <th id=\"T_fd94f_level0_col3\" class=\"col_heading level0 col3\" >Random Forest</th>\n",
       "    </tr>\n",
       "  </thead>\n",
       "  <tbody>\n",
       "    <tr>\n",
       "      <th id=\"T_fd94f_level0_row0\" class=\"row_heading level0 row0\" >Precision</th>\n",
       "      <td id=\"T_fd94f_row0_col0\" class=\"data row0 col0\" >0.278520</td>\n",
       "      <td id=\"T_fd94f_row0_col1\" class=\"data row0 col1\" >0.291436</td>\n",
       "      <td id=\"T_fd94f_row0_col2\" class=\"data row0 col2\" >0.455131</td>\n",
       "      <td id=\"T_fd94f_row0_col3\" class=\"data row0 col3\" >0.643644</td>\n",
       "    </tr>\n",
       "    <tr>\n",
       "      <th id=\"T_fd94f_level0_row1\" class=\"row_heading level0 row1\" >Recall</th>\n",
       "      <td id=\"T_fd94f_row1_col0\" class=\"data row1 col0\" >0.988433</td>\n",
       "      <td id=\"T_fd94f_row1_col1\" class=\"data row1 col1\" >0.942741</td>\n",
       "      <td id=\"T_fd94f_row1_col2\" class=\"data row1 col2\" >0.613071</td>\n",
       "      <td id=\"T_fd94f_row1_col3\" class=\"data row1 col3\" >0.743783</td>\n",
       "    </tr>\n",
       "    <tr>\n",
       "      <th id=\"T_fd94f_level0_row2\" class=\"row_heading level0 row2\" >F-Score</th>\n",
       "      <td id=\"T_fd94f_row2_col0\" class=\"data row2 col0\" >0.434584</td>\n",
       "      <td id=\"T_fd94f_row2_col1\" class=\"data row2 col1\" >0.445234</td>\n",
       "      <td id=\"T_fd94f_row2_col2\" class=\"data row2 col2\" >0.522425</td>\n",
       "      <td id=\"T_fd94f_row2_col3\" class=\"data row2 col3\" >0.690099</td>\n",
       "    </tr>\n",
       "    <tr>\n",
       "      <th id=\"T_fd94f_level0_row3\" class=\"row_heading level0 row3\" >Support</th>\n",
       "      <td id=\"T_fd94f_row3_col0\" class=\"data row3 col0\" >1729.000000</td>\n",
       "      <td id=\"T_fd94f_row3_col1\" class=\"data row3 col1\" >1729.000000</td>\n",
       "      <td id=\"T_fd94f_row3_col2\" class=\"data row3 col2\" >1729.000000</td>\n",
       "      <td id=\"T_fd94f_row3_col3\" class=\"data row3 col3\" >1729.000000</td>\n",
       "    </tr>\n",
       "  </tbody>\n",
       "</table>\n"
      ],
      "text/plain": [
       "<pandas.io.formats.style.Styler at 0x17ec9ce50>"
      ]
     },
     "execution_count": 44,
     "metadata": {},
     "output_type": "execute_result"
    }
   ],
   "source": [
    "# Print scores for Hazardous predictions in tabular form.\n",
    "score_data = pd.DataFrame({\n",
    "    \"Scholastic Gradient Descent\": [sgd_score[0][1], sgd_score[1][1], sgd_score[2][1], sgd_score[3][1]],\n",
    "    \"Linear-SVM\": [linsvc_score[0][1], linsvc_score[1][1], linsvc_score[2][1], linsvc_score[3][1]],\n",
    "    \"K-Nearest Neighbour\": [knn_score[0][1], knn_score[1][1], knn_score[2][1], knn_score[3][1]],\n",
    "    \"Random Forest\": [rfc_score[0][1], rfc_score[1][1], rfc_score[2][1], rfc_score[3][1]]\n",
    "}, index=[\"Precision\", \"Recall\", \"F-Score\", \"Support\"]).style.set_caption(\"Scores for Hazardous Predictions\")\n",
    "score_data"
   ]
  }
 ],
 "metadata": {
  "kernelspec": {
   "display_name": "Python 3.8.13 ('deeplearning')",
   "language": "python",
   "name": "python3"
  },
  "language_info": {
   "codemirror_mode": {
    "name": "ipython",
    "version": 3
   },
   "file_extension": ".py",
   "mimetype": "text/x-python",
   "name": "python",
   "nbconvert_exporter": "python",
   "pygments_lexer": "ipython3",
   "version": "3.8.13"
  },
  "orig_nbformat": 4,
  "vscode": {
   "interpreter": {
    "hash": "eb65a6c0cb7da177af45d1a72860dae38d9eb4c33bc30241890479ab41f968ca"
   }
  }
 },
 "nbformat": 4,
 "nbformat_minor": 2
}
